{
 "cells": [
  {
   "cell_type": "code",
   "execution_count": 189,
   "metadata": {},
   "outputs": [],
   "source": [
    "from collections import Counter\n",
    "from tqdm import tqdm\n",
    "import cgranges\n",
    "import pandas as pd"
   ]
  },
  {
   "cell_type": "code",
   "execution_count": 4,
   "metadata": {},
   "outputs": [],
   "source": [
    "class Isoform:\n",
    "    def __init__(self, tid, chrom, strand):\n",
    "        self.tid = tid\n",
    "        self.chrom = chrom\n",
    "        self.strand = strand\n",
    "        self.exons = list()\n",
    "    def build_introns(self):\n",
    "        self.introns = tuple(\n",
    "            (e1+1, s2-1)\n",
    "            for (_,e1),(s2,_) in zip(self.exons[:-1], self.exons[1:])\n",
    "        )\n",
    "    def build_intron_str(self):\n",
    "        self.introns_str = \":\".join([f\"{x[0]}-{x[1]}\" for x in self.introns])"
   ]
  },
  {
   "cell_type": "code",
   "execution_count": 5,
   "metadata": {},
   "outputs": [],
   "source": [
    "def get_isoforms(in_gtf):\n",
    "    bad_tids = set()\n",
    "    isoforms = list()\n",
    "    tid_to_idx = dict()\n",
    "    for line in tqdm(open(in_gtf), desc=f\"Reading {in_gtf}\"):\n",
    "        if line.startswith('#'):\n",
    "            continue\n",
    "        line = line.strip().split('\\t')\n",
    "        if line[2] != 'exon':\n",
    "            continue\n",
    "\n",
    "        info = line[8]\n",
    "        info = [x.strip().split(' ') for x in info.strip(';').split(';')]\n",
    "        info = {x[0]:x[1].strip('\"') for x in info}\n",
    "\n",
    "        tid = info['transcript_id']\n",
    "        if tid not in tid_to_idx:\n",
    "            tid_to_idx[tid] = len(isoforms)\n",
    "            isoforms.append(Isoform(\n",
    "                tid=tid,\n",
    "                chrom=line[0],\n",
    "                strand=line[6],\n",
    "            ))\n",
    "        idx = tid_to_idx[tid]\n",
    "        start, end = int(line[3]) - 1, int(line[4])\n",
    "        if end - start < 1:\n",
    "            bad_tids.add(tid)\n",
    "        isoforms[idx].exons.append((start, end))\n",
    "    for isoform in isoforms:\n",
    "        isoform.exons = tuple(sorted(isoform.exons))\n",
    "        isoform.build_introns()\n",
    "        isoform.build_intron_str()\n",
    "    print(f\"Found {len(bad_tids)} transcripts with bad coordinates\")\n",
    "    print(bad_tids)\n",
    "    isoforms = [x for x in isoforms if x.tid not in bad_tids]\n",
    "    tid_to_idx = {x.tid:i for i,x in enumerate(isoforms)}\n",
    "    return tid_to_idx,isoforms"
   ]
  },
  {
   "cell_type": "code",
   "execution_count": 6,
   "metadata": {},
   "outputs": [
    {
     "name": "stderr",
     "output_type": "stream",
     "text": [
      "Reading output/results/S1/freddie.isoforms.gtf: 396880it [00:02, 192309.22it/s]\n"
     ]
    },
    {
     "name": "stdout",
     "output_type": "stream",
     "text": [
      "Found 5 transcripts with bad coordinates\n",
      "{'2_49_0', '19_450_0', '15_247_0', '12_77_5', '10_489_1'}\n"
     ]
    },
    {
     "name": "stderr",
     "output_type": "stream",
     "text": [
      "Reading data/refs/homo_sapiens.annot.gtf: 3408735it [00:25, 131770.00it/s]\n"
     ]
    },
    {
     "name": "stdout",
     "output_type": "stream",
     "text": [
      "Found 0 transcripts with bad coordinates\n",
      "set()\n"
     ]
    }
   ],
   "source": [
    "in_gtf = \"output/results/S1/freddie.isoforms.gtf\"\n",
    "annot_gtf = \"data/refs/homo_sapiens.annot.gtf\"\n",
    "in_tid_to_idx,in_isoforms = get_isoforms(in_gtf)\n",
    "annot_tid_to_idx,annot_isoforms = get_isoforms(annot_gtf)"
   ]
  },
  {
   "cell_type": "code",
   "execution_count": 7,
   "metadata": {},
   "outputs": [],
   "source": [
    "def get_index(isoforms):\n",
    "    I = cgranges.cgranges()\n",
    "    for idx, isoform in tqdm(enumerate(isoforms), total=len(isoforms)):\n",
    "        for s,e in isoform.exons:\n",
    "            I.add(isoform.chrom, s, e, idx)\n",
    "    I.index()\n",
    "    return I"
   ]
  },
  {
   "cell_type": "code",
   "execution_count": 8,
   "metadata": {},
   "outputs": [],
   "source": [
    "\n",
    "def get_canonical_intervals(interval_lists, min_length=0):\n",
    "    result = list()\n",
    "    breakpoints = set()\n",
    "    g = cgranges.cgranges()\n",
    "    for idx, genomic_interval_list in enumerate(interval_lists):\n",
    "        for start, end in genomic_interval_list:\n",
    "            g.add(\"\", start, end, idx)\n",
    "            breakpoints.add(start)\n",
    "            breakpoints.add(end)\n",
    "    g.index()\n",
    "    breakpoints = sorted(breakpoints)\n",
    "    for s,e in zip(breakpoints[:-1], breakpoints[1:]):\n",
    "        if e - s < min_length:\n",
    "            continue\n",
    "        labels = set((l for _,_,l in g.overlap(\"\", s, e)))\n",
    "        labels = tuple(idx in labels for idx in range(len(interval_lists)))\n",
    "        if any(labels):\n",
    "            result.append((s, e, labels))\n",
    "    return result"
   ]
  },
  {
   "cell_type": "code",
   "execution_count": 62,
   "metadata": {},
   "outputs": [],
   "source": [
    "def charecterize_intervals(c_intervals):\n",
    "    i = j = -1\n",
    "    for i,(_,_,labels) in enumerate(c_intervals):\n",
    "        if all(labels):\n",
    "            break\n",
    "    for j,(_,_,labels) in enumerate(c_intervals[::-1]):\n",
    "        if all(labels):\n",
    "            break\n",
    "    assert i != -1, c_intervals\n",
    "    j = len(c_intervals) - j - 1\n",
    "\n",
    "    counter = Counter()\n",
    "    for idx, (_,_,labels) in enumerate(c_intervals):\n",
    "        if idx < i:\n",
    "            key = -1 # Prefix\n",
    "        elif idx > j: \n",
    "            key = +1 # Suffix\n",
    "        else:\n",
    "            key = 0 # Main\n",
    "        counter[(key, *labels)] += 1\n",
    "    return counter\n"
   ]
  },
  {
   "cell_type": "code",
   "execution_count": 10,
   "metadata": {},
   "outputs": [
    {
     "name": "stderr",
     "output_type": "stream",
     "text": [
      "  0%|          | 0/252242 [00:00<?, ?it/s]"
     ]
    },
    {
     "name": "stderr",
     "output_type": "stream",
     "text": [
      "100%|██████████| 252242/252242 [00:00<00:00, 337687.49it/s]\n",
      "100%|██████████| 72295/72295 [00:00<00:00, 431990.67it/s]\n"
     ]
    }
   ],
   "source": [
    "annot_exon_index = get_index(annot_isoforms)\n",
    "in_exon_index = get_index(in_isoforms)"
   ]
  },
  {
   "cell_type": "code",
   "execution_count": 51,
   "metadata": {},
   "outputs": [
    {
     "data": {
      "text/plain": [
       "2"
      ]
     },
     "execution_count": 51,
     "metadata": {},
     "output_type": "execute_result"
    }
   ],
   "source": [
    "matches[(-1, False, True)]"
   ]
  },
  {
   "cell_type": "code",
   "execution_count": 122,
   "metadata": {},
   "outputs": [
    {
     "name": "stderr",
     "output_type": "stream",
     "text": [
      "100%|██████████| 72295/72295 [00:57<00:00, 1267.94it/s]\n"
     ]
    }
   ],
   "source": [
    "fields = [\n",
    "    \"in_iso\",\n",
    "    \"annot_iso\",\n",
    "    \"in_exons\",\n",
    "    \"annot_exons\",\n",
    "    \"in_c_exons\",\n",
    "    \"annot_c_exons\",\n",
    "    \"prefix_m\",\n",
    "    \"prefix_i\",\n",
    "    \"prefix_d\",\n",
    "    \"main_m\",\n",
    "    \"main_i\",\n",
    "    \"main_d\",\n",
    "    \"suffix_m\",\n",
    "    \"suffix_i\",\n",
    "    \"suffix_d\",\n",
    "]\n",
    "match_fields_keys = [\n",
    "    (-1, True, True),\n",
    "    (-1, False, True),\n",
    "    (-1, True, False),\n",
    "    (0, True, True),\n",
    "    (0, False, True),\n",
    "    (0, True, False),\n",
    "    (+1, True, True),\n",
    "    (+1, False, True),\n",
    "    (+1, True, False),    \n",
    "]\n",
    "X = 0\n",
    "with open(\"isoform-matches.csv\", \"w+\") as outfile:\n",
    "    record = list()\n",
    "    for f in fields:\n",
    "        record.append(f\"{f}\")\n",
    "    print(\",\".join(record), file=outfile)\n",
    "    i_isoforms_tids = set()\n",
    "    a_isoforms_tids = set()\n",
    "    for i_isoform in tqdm(in_isoforms):\n",
    "        a_idxs = {\n",
    "            a_idx\n",
    "            for s,e in i_isoform.exons\n",
    "            for _,_,a_idx in annot_exon_index.overlap(i_isoform.chrom, s, e)\n",
    "        }\n",
    "        for a_idx in a_idxs:\n",
    "            record = [\n",
    "                f\"{i_isoform.tid}\",\n",
    "                f\"{annot_isoforms[a_idx].tid}\",\n",
    "                f\"{len(i_isoform.exons)}\",\n",
    "                f\"{len(annot_isoforms[a_idx].exons)}\",\n",
    "            ]       \n",
    "\n",
    "            c_intervals = get_canonical_intervals(\n",
    "                (\n",
    "                    annot_isoforms[a_idx].exons,\n",
    "                    i_isoform.exons,\n",
    "                ),\n",
    "                min_length=5\n",
    "            )\n",
    "            matches = charecterize_intervals(c_intervals)\n",
    "            record.extend([\n",
    "                f\"{sum(v for k,v in matches.items() if k[2])}\", # Canonical intervals with input isoform\n",
    "                f\"{sum(v for k,v in matches.items() if k[1])}\", # Canonical intervals with annot isoform\n",
    "            ])\n",
    "            i_isoforms_tids.add(i_isoform.tid)\n",
    "            a_isoforms_tids.add(annot_isoforms[a_idx].tid)\n",
    "            for key in match_fields_keys:\n",
    "                record.append(f\"{matches[key]}\")\n",
    "            print(\",\".join(record), file=outfile)\n",
    "            X += 1\n"
   ]
  },
  {
   "cell_type": "code",
   "execution_count": 117,
   "metadata": {},
   "outputs": [
    {
     "data": {
      "text/plain": [
       "711132"
      ]
     },
     "execution_count": 117,
     "metadata": {},
     "output_type": "execute_result"
    }
   ],
   "source": [
    "X"
   ]
  },
  {
   "cell_type": "code",
   "execution_count": 123,
   "metadata": {},
   "outputs": [],
   "source": [
    "A = pd.read_csv(\"isoform-matches.csv\")"
   ]
  },
  {
   "cell_type": "code",
   "execution_count": null,
   "metadata": {},
   "outputs": [],
   "source": [
    "B = pd.read_csv(\"output/simulate/TS/S1.tsv\", sep='\\t')"
   ]
  },
  {
   "cell_type": "code",
   "execution_count": 181,
   "metadata": {},
   "outputs": [],
   "source": [
    "min_coverage = 10\n",
    "tid_to_counts = B.transcript_id.value_counts()\n",
    "simulated_tids = tid_to_counts[tid_to_counts > min_coverage]"
   ]
  },
  {
   "cell_type": "code",
   "execution_count": 188,
   "metadata": {},
   "outputs": [],
   "source": [
    "detected_tids = set(A[\n",
    "    (A.main_m == A.in_c_exons)\n",
    "    & (A.annot_c_exons - A.main_m < 3)\n",
    "].annot_iso)"
   ]
  },
  {
   "cell_type": "code",
   "execution_count": 197,
   "metadata": {},
   "outputs": [],
   "source": [
    "coverage = list()\n",
    "detection = list()\n",
    "detected_count = 0\n",
    "for tid, count in simulated_tids.items():\n",
    "    coverage.append(count)\n",
    "    detected_count += tid in detected_tids\n",
    "    detection.append(detected_count)"
   ]
  },
  {
   "cell_type": "code",
   "execution_count": 204,
   "metadata": {},
   "outputs": [
    {
     "data": {
      "text/plain": [
       "[<matplotlib.lines.Line2D at 0x7f8c860de3e0>]"
      ]
     },
     "execution_count": 204,
     "metadata": {},
     "output_type": "execute_result"
    },
    {
     "data": {
      "image/png": "[encoded data removed]",
      "text/plain": [
       "<Figure size 640x480 with 2 Axes>"
      ]
     },
     "metadata": {},
     "output_type": "display_data"
    }
   ],
   "source": [
    "fig, ax = plt.subplots()\n",
    "ax.plot(coverage)\n",
    "# Make log scale\n",
    "ax.set_yscale('log')\n",
    "# Twin axis\n",
    "ax2 = ax.twinx()\n",
    "ax2.plot(detection, color='red')\n",
    "ax2.plot([0, len(coverage)], [0, len(coverage)], linestyle='--', color='orange')"
   ]
  }
 ],
 "metadata": {
  "kernelspec": {
   "display_name": "freddie_dev",
   "language": "python",
   "name": "python3"
  },
  "language_info": {
   "codemirror_mode": {
    "name": "ipython",
    "version": 3
   },
   "file_extension": ".py",
   "mimetype": "text/x-python",
   "name": "python",
   "nbconvert_exporter": "python",
   "pygments_lexer": "ipython3",
   "version": "3.10.11"
  },
  "orig_nbformat": 4
 },
 "nbformat": 4,
 "nbformat_minor": 2
}
