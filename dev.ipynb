{
 "cells": [
  {
   "cell_type": "code",
   "execution_count": 3,
   "metadata": {},
   "outputs": [],
   "source": [
    "from collections import Counter\n",
    "from tqdm import tqdm\n",
    "import cgranges\n",
    "import pandas as pd\n",
    "from matplotlib import pyplot as plt"
   ]
  },
  {
   "cell_type": "code",
   "execution_count": 4,
   "metadata": {},
   "outputs": [
    {
     "name": "stdout",
     "output_type": "stream",
     "text": [
      "10 20 0\n",
      "15 25 1\n"
     ]
    }
   ],
   "source": [
    "import cgranges as cr\n",
    "g = cr.cgranges()\n",
    "g.add(\"chr1\", 10, 20, 0)\n",
    "g.add(\"chr1\", 15, 25, 1)\n",
    "g.add(\"chr1\", 20    , 25, 2)\n",
    "g.index()\n",
    "for st, en, label in g.overlap(\"chr1\", 12, 16):\n",
    "        print(st, en, label)\n"
   ]
  },
  {
   "cell_type": "code",
   "execution_count": 4,
   "metadata": {},
   "outputs": [],
   "source": [
    "class Isoform:\n",
    "    def __init__(self, tid, chrom, strand):\n",
    "        self.tid = tid\n",
    "        self.chrom = chrom\n",
    "        self.strand = strand\n",
    "        self.exons = list()\n",
    "    def build_introns(self):\n",
    "        self.introns = tuple(\n",
    "            (e1+1, s2-1)\n",
    "            for (_,e1),(s2,_) in zip(self.exons[:-1], self.exons[1:])\n",
    "        )\n",
    "    def build_intron_str(self):\n",
    "        self.introns_str = \":\".join([f\"{x[0]}-{x[1]}\" for x in self.introns])"
   ]
  },
  {
   "cell_type": "code",
   "execution_count": 5,
   "metadata": {},
   "outputs": [],
   "source": [
    "def get_isoforms(in_gtf):\n",
    "    bad_tids = set()\n",
    "    isoforms = list()\n",
    "    tid_to_idx = dict()\n",
    "    for line in tqdm(open(in_gtf), desc=f\"Reading {in_gtf}\"):\n",
    "        if line.startswith('#'):\n",
    "            continue\n",
    "        line = line.strip().split('\\t')\n",
    "        if line[2] != 'exon':\n",
    "            continue\n",
    "\n",
    "        info = line[8]\n",
    "        info = [x.strip().split(' ') for x in info.strip(';').split(';')]\n",
    "        info = {x[0]:x[1].strip('\"') for x in info}\n",
    "\n",
    "        tid = info['transcript_id']\n",
    "        if tid not in tid_to_idx:\n",
    "            tid_to_idx[tid] = len(isoforms)\n",
    "            isoforms.append(Isoform(\n",
    "                tid=tid,\n",
    "                chrom=line[0],\n",
    "                strand=line[6],\n",
    "            ))\n",
    "        idx = tid_to_idx[tid]\n",
    "        start, end = int(line[3]) - 1, int(line[4])\n",
    "        if end - start < 1:\n",
    "            bad_tids.add(tid)\n",
    "        isoforms[idx].exons.append((start, end))\n",
    "    for isoform in isoforms:\n",
    "        isoform.exons = tuple(sorted(isoform.exons))\n",
    "        isoform.build_introns()\n",
    "        isoform.build_intron_str()\n",
    "    print(f\"Found {len(bad_tids)} transcripts with bad coordinates\")\n",
    "    print(bad_tids)\n",
    "    isoforms = [x for x in isoforms if x.tid not in bad_tids]\n",
    "    tid_to_idx = {x.tid:i for i,x in enumerate(isoforms)}\n",
    "    return tid_to_idx,isoforms"
   ]
  },
  {
   "cell_type": "code",
   "execution_count": 6,
   "metadata": {},
   "outputs": [
    {
     "name": "stderr",
     "output_type": "stream",
     "text": [
      "Reading output/results/S1/freddie.isoforms.gtf: 242245it [00:01, 186303.88it/s]\n"
     ]
    },
    {
     "name": "stdout",
     "output_type": "stream",
     "text": [
      "Found 4 transcripts with bad coordinates\n",
      "{'2_49_0', '2_220_4', '2_220_3', '15_250_0'}\n"
     ]
    },
    {
     "name": "stderr",
     "output_type": "stream",
     "text": [
      "Reading data/refs/homo_sapiens.annot.gtf: 3408735it [00:28, 118911.09it/s]\n"
     ]
    },
    {
     "name": "stdout",
     "output_type": "stream",
     "text": [
      "Found 0 transcripts with bad coordinates\n",
      "set()\n"
     ]
    }
   ],
   "source": [
    "in_gtf = \"output/results/S1/freddie.isoforms.gtf\"\n",
    "annot_gtf = \"data/refs/homo_sapiens.annot.gtf\"\n",
    "in_tid_to_idx,in_isoforms = get_isoforms(in_gtf)\n",
    "annot_tid_to_idx,annot_isoforms = get_isoforms(annot_gtf)"
   ]
  },
  {
   "cell_type": "code",
   "execution_count": 16,
   "metadata": {},
   "outputs": [
    {
     "name": "stderr",
     "output_type": "stream",
     "text": [
      "  0%|          | 0/252242 [00:00<?, ?it/s]"
     ]
    },
    {
     "name": "stderr",
     "output_type": "stream",
     "text": [
      "100%|██████████| 252242/252242 [00:01<00:00, 134855.08it/s]\n"
     ]
    }
   ],
   "source": [
    "intron_lens = dict()\n",
    "for isoform in tqdm(annot_isoforms):\n",
    "    for idx,(s,e) in enumerate(isoform.introns):\n",
    "        intron_lens[(isoform.tid,idx)] = (e-s)\n",
    "intron_lens = pd.DataFrame.from_dict(intron_lens, orient='index', columns=['intron_len'])   "
   ]
  },
  {
   "cell_type": "code",
   "execution_count": 29,
   "metadata": {},
   "outputs": [
    {
     "data": {
      "text/plain": [
       "array([[<Axes: title={'center': 'intron_len'}>]], dtype=object)"
      ]
     },
     "execution_count": 29,
     "metadata": {},
     "output_type": "execute_result"
    },
    {
     "data": {
      "image/png": "[encoded data removed]",
      "text/plain": [
       "<Figure size 1000x500 with 1 Axes>"
      ]
     },
     "metadata": {},
     "output_type": "display_data"
    }
   ],
   "source": [
    "\n",
    "import numpy as np\n",
    "\n",
    "\n",
    "intron_lens.hist(bins=np.arange(1e5,5e5,1e4), figsize=(10, 5))\n",
    "# print(sum(intron_lens.intron_len > 2e5))"
   ]
  },
  {
   "cell_type": "code",
   "execution_count": 6,
   "metadata": {},
   "outputs": [],
   "source": [
    "def get_index(isoforms):\n",
    "    I = cgranges.cgranges()\n",
    "    for idx, isoform in tqdm(enumerate(isoforms), total=len(isoforms)):\n",
    "        for s,e in isoform.exons:\n",
    "            I.add(isoform.chrom, s, e, idx)\n",
    "    I.index()\n",
    "    return I"
   ]
  },
  {
   "cell_type": "code",
   "execution_count": 7,
   "metadata": {},
   "outputs": [],
   "source": [
    "\n",
    "def get_canonical_intervals(interval_lists, min_length=0):\n",
    "    result = list()\n",
    "    breakpoints = set()\n",
    "    g = cgranges.cgranges()\n",
    "    for idx, genomic_interval_list in enumerate(interval_lists):\n",
    "        for start, end in genomic_interval_list:\n",
    "            g.add(\"\", start, end, idx)\n",
    "            breakpoints.add(start)\n",
    "            breakpoints.add(end)\n",
    "    g.index()\n",
    "    breakpoints = sorted(breakpoints)\n",
    "    for s,e in zip(breakpoints[:-1], breakpoints[1:]):\n",
    "        if e - s < min_length:\n",
    "            continue\n",
    "        labels = set((l for _,_,l in g.overlap(\"\", s, e)))\n",
    "        labels = tuple(idx in labels for idx in range(len(interval_lists)))\n",
    "        if any(labels):\n",
    "            result.append((s, e, labels))\n",
    "    return result"
   ]
  },
  {
   "cell_type": "code",
   "execution_count": 8,
   "metadata": {},
   "outputs": [],
   "source": [
    "def charecterize_intervals(c_intervals):\n",
    "    i = j = -1\n",
    "    for i,(_,_,labels) in enumerate(c_intervals):\n",
    "        if all(labels):\n",
    "            break\n",
    "    for j,(_,_,labels) in enumerate(c_intervals[::-1]):\n",
    "        if all(labels):\n",
    "            break\n",
    "    assert i != -1, c_intervals\n",
    "    j = len(c_intervals) - j - 1\n",
    "\n",
    "    counter = Counter()\n",
    "    for idx, (_,_,labels) in enumerate(c_intervals):\n",
    "        if idx < i:\n",
    "            key = -1 # Prefix\n",
    "        elif idx > j: \n",
    "            key = +1 # Suffix\n",
    "        else:\n",
    "            key = 0 # Main\n",
    "        counter[(key, *labels)] += 1\n",
    "    return counter\n"
   ]
  },
  {
   "cell_type": "code",
   "execution_count": 9,
   "metadata": {},
   "outputs": [
    {
     "name": "stderr",
     "output_type": "stream",
     "text": [
      "  7%|▋         | 17013/252242 [00:00<00:01, 170112.32it/s]"
     ]
    },
    {
     "name": "stderr",
     "output_type": "stream",
     "text": [
      "100%|██████████| 252242/252242 [00:00<00:00, 308583.37it/s]\n",
      "100%|██████████| 43596/43596 [00:00<00:00, 491926.21it/s]\n"
     ]
    }
   ],
   "source": [
    "annot_exon_index = get_index(annot_isoforms)\n",
    "in_exon_index = get_index(in_isoforms)"
   ]
  },
  {
   "cell_type": "code",
   "execution_count": 10,
   "metadata": {},
   "outputs": [
    {
     "name": "stderr",
     "output_type": "stream",
     "text": [
      "  1%|▏         | 650/43596 [00:00<00:40, 1072.13it/s]"
     ]
    },
    {
     "name": "stderr",
     "output_type": "stream",
     "text": [
      "100%|██████████| 43596/43596 [00:35<00:00, 1232.68it/s]\n"
     ]
    }
   ],
   "source": [
    "fields = [\n",
    "    \"in_iso\",\n",
    "    \"annot_iso\",\n",
    "    \"in_exons\",\n",
    "    \"annot_exons\",\n",
    "    \"in_c_exons\",\n",
    "    \"annot_c_exons\",\n",
    "    \"prefix_m\",\n",
    "    \"prefix_i\",\n",
    "    \"prefix_d\",\n",
    "    \"main_m\",\n",
    "    \"main_i\",\n",
    "    \"main_d\",\n",
    "    \"suffix_m\",\n",
    "    \"suffix_i\",\n",
    "    \"suffix_d\",\n",
    "]\n",
    "prefix_key = -1\n",
    "main_key = 0\n",
    "suffix_key = +1\n",
    "match_key = (True, True)\n",
    "insertion_key = (False, True)\n",
    "deletion_key = (True, False)\n",
    "match_fields_keys = [\n",
    "    (k1, *k2)\n",
    "    for k1 in (prefix_key, main_key, suffix_key)\n",
    "    for k2 in (match_key, insertion_key, deletion_key)\n",
    "]\n",
    "X = 0\n",
    "with open(\"isoform-matches.csv\", \"w+\") as outfile:\n",
    "    record = list()\n",
    "    for f in fields:\n",
    "        record.append(f\"{f}\")\n",
    "    print(\",\".join(record), file=outfile)\n",
    "    i_isoforms_tids = set()\n",
    "    a_isoforms_tids = set()\n",
    "    for i_isoform in tqdm(in_isoforms):\n",
    "        a_idxs = {\n",
    "            a_idx\n",
    "            for s,e in i_isoform.exons\n",
    "            for _,_,a_idx in annot_exon_index.overlap(i_isoform.chrom, s, e)\n",
    "        }\n",
    "        for a_idx in a_idxs:\n",
    "            record = [\n",
    "                f\"{i_isoform.tid}\",\n",
    "                f\"{annot_isoforms[a_idx].tid}\",\n",
    "                f\"{len(i_isoform.exons)}\",\n",
    "                f\"{len(annot_isoforms[a_idx].exons)}\",\n",
    "            ]       \n",
    "\n",
    "            c_intervals = get_canonical_intervals(\n",
    "                (\n",
    "                    annot_isoforms[a_idx].exons,\n",
    "                    i_isoform.exons,\n",
    "                ),\n",
    "                min_length=10\n",
    "            )\n",
    "            matches = charecterize_intervals(c_intervals)\n",
    "            record.extend([\n",
    "                f\"{sum(v for k,v in matches.items() if k[2])}\", # Canonical intervals with input isoform\n",
    "                f\"{sum(v for k,v in matches.items() if k[1])}\", # Canonical intervals with annot isoform\n",
    "            ])\n",
    "            i_isoforms_tids.add(i_isoform.tid)\n",
    "            a_isoforms_tids.add(annot_isoforms[a_idx].tid)\n",
    "            for key in match_fields_keys:\n",
    "                record.append(f\"{matches[key]}\")\n",
    "            print(\",\".join(record), file=outfile)\n",
    "            X += 1\n"
   ]
  },
  {
   "cell_type": "code",
   "execution_count": 11,
   "metadata": {},
   "outputs": [
    {
     "data": {
      "text/plain": [
       "445932"
      ]
     },
     "execution_count": 11,
     "metadata": {},
     "output_type": "execute_result"
    }
   ],
   "source": [
    "X"
   ]
  },
  {
   "cell_type": "code",
   "execution_count": 12,
   "metadata": {},
   "outputs": [],
   "source": [
    "A = pd.read_csv(\"isoform-matches.csv\")"
   ]
  },
  {
   "cell_type": "code",
   "execution_count": null,
   "metadata": {},
   "outputs": [],
   "source": []
  },
  {
   "cell_type": "code",
   "execution_count": 13,
   "metadata": {},
   "outputs": [],
   "source": [
    "B = pd.read_csv(\"output/simulate/TS/S1.tsv\", sep='\\t')"
   ]
  },
  {
   "cell_type": "code",
   "execution_count": 198,
   "metadata": {},
   "outputs": [],
   "source": [
    "min_coverage = 5\n",
    "tid_to_counts = B.transcript_id.value_counts()\n",
    "multi_exon_annot_tids = {\n",
    "    tid for tid in annot_tid_to_idx.keys()\n",
    "    if len(annot_isoforms[annot_tid_to_idx[tid]].exons) > 1\n",
    "}\n",
    "simulated_tids = tid_to_counts[(tid_to_counts > min_coverage) & (tid_to_counts.index.isin(multi_exon_annot_tids))]"
   ]
  },
  {
   "cell_type": "code",
   "execution_count": 199,
   "metadata": {},
   "outputs": [],
   "source": [
    "def plot_coverage(simulated_tids, detected_tids, title, reverse_sort=False):\n",
    "    if reverse_sort:\n",
    "        simulated_tids = reversed(list(simulated_tids.items()))\n",
    "    else:\n",
    "        simulated_tids = list(simulated_tids.items())\n",
    "    coverage = list()\n",
    "    detection = list()\n",
    "    detection_rate = list()\n",
    "    detected_count = 0\n",
    "\n",
    "    for tid, count in simulated_tids:\n",
    "        coverage.append(count)\n",
    "        detected_count += tid in detected_tids\n",
    "        detection.append(detected_count)\n",
    "        detection_rate.append(detected_count/len(detection))\n",
    "\n",
    "    fig, axes = plt.subplots(2,1, figsize=(10,5), sharex=True, gridspec_kw={'height_ratios': [3, 1]})\n",
    "    fig.suptitle(title)\n",
    "    ax = axes[0]\n",
    "    ax.plot(coverage, color=\"C0\", label='# of reads simulated')\n",
    "    # ax.set_yscale('log')\n",
    "    ax.grid(axis='y', linestyle='-')\n",
    "    # lim y axis\n",
    "    ax.set_ylim(1, 5e2)\n",
    "    ax2 = ax.twinx()\n",
    "    ax2.plot(\n",
    "        [0, len(coverage)],\n",
    "        [0, len(coverage)],\n",
    "        linestyle=\"--\",\n",
    "        color='C1',\n",
    "        label=f\"# of simulated isoforms ({'reverse ' if reverse_sort else ''}sorted by coverage)\"\n",
    "    )\n",
    "    ax2.plot(\n",
    "        detection,\n",
    "        color=\"C2\",\n",
    "        label='# of simulated isoforms detected by Freddie'\n",
    "    )\n",
    "    ax2.grid(axis='y', linestyle='--')\n",
    "\n",
    "    axes[1].plot(\n",
    "        detection_rate,\n",
    "        color=\"C3\",\n",
    "        label=\"Detection rate\",\n",
    "    )\n",
    "    # Percent formatter\n",
    "    axes[1].yaxis.set_major_formatter(lambda x, pos: f\"{x*100:.0f}%\")\n",
    "    axes[1].set_ylim(0,1)\n",
    "    axes[1].set_yticks([.2,.4,.6,.8,1])\n",
    "    axes[1].grid(axis='y', linestyle='--')\n",
    "    axes[1].yaxis.tick_right()\n",
    "\n",
    "    # Legend\n",
    "    lines, labels = ax.get_legend_handles_labels()\n",
    "    lines2, labels2 = ax2.get_legend_handles_labels()\n",
    "    lines3, labels3 = axes[1].get_legend_handles_labels()\n",
    "    ax2.legend(lines + lines2 + lines3, labels + labels2 + labels3, loc='upper center', framealpha=1)\n",
    "    plt.show()"
   ]
  },
  {
   "cell_type": "code",
   "execution_count": 204,
   "metadata": {},
   "outputs": [
    {
     "data": {
      "image/png": "[encoded data removed]",
      "text/plain": [
       "<Figure size 1000x500 with 3 Axes>"
      ]
     },
     "metadata": {},
     "output_type": "display_data"
    }
   ],
   "source": [
    "for max_missing in range(4,5):\n",
    "    detected_tids = set(A[\n",
    "        (A.prefix_d * A.prefix_i == 0) & # one is the suffix of the other\n",
    "        (A.suffix_d * A.suffix_i == 0) & # one is the prefix of the other\n",
    "        (A.prefix_d + A.prefix_i <= 2) & # the one with longer head can have at most one extra exon(s)\n",
    "        (A.suffix_d + A.suffix_i <= 2) & # the one with longer tail can have at most one extra exon(s)\n",
    "        (A.prefix_d + A.prefix_i + A.suffix_d + A.suffix_i <= max_missing) & # total extra exons can be at most max_missing\n",
    "        (A.main_d + A.main_i == 0) & # no extra exons in the middle\n",
    "        (A.main_m >= 1) # at least one match in the middle\n",
    "    ].annot_iso)\n",
    "    plot_coverage(simulated_tids, detected_tids, reverse_sort=False, title=f\"Max missing exons from prefix+suffix: {max_missing}\\nMin coverage: {min_coverage}\")"
   ]
  },
  {
   "cell_type": "code",
   "execution_count": 201,
   "metadata": {},
   "outputs": [
    {
     "name": "stdout",
     "output_type": "stream",
     "text": [
      "ENST00000678110 100 11\n"
     ]
    }
   ],
   "source": [
    "for tid, read_count in tid_to_counts.items():\n",
    "    if read_count < 10 or read_count > 100:\n",
    "        continue\n",
    "    exon_count = len(annot_isoforms[annot_tid_to_idx[tid]].exons)\n",
    "    if exon_count < 2:\n",
    "        continue\n",
    "    if tid in detected_tids:\n",
    "        continue\n",
    "    print(tid, read_count, exon_count)\n",
    "    break"
   ]
  },
  {
   "cell_type": "code",
   "execution_count": 202,
   "metadata": {},
   "outputs": [
    {
     "data": {
      "text/plain": [
       "((64498256, 64500326),\n",
       " (64500548, 64502069),\n",
       " (64502161, 64502223),\n",
       " (64502438, 64502549),\n",
       " (64502925, 64503098),\n",
       " (64503187, 64503348),\n",
       " (64503429, 64503868),\n",
       " (64503982, 64504116),\n",
       " (64504221, 64504318),\n",
       " (64504676, 64504842),\n",
       " (64506075, 64506349))"
      ]
     },
     "execution_count": 202,
     "metadata": {},
     "output_type": "execute_result"
    }
   ],
   "source": [
    "annot_isoforms[annot_tid_to_idx[tid]].exons"
   ]
  },
  {
   "cell_type": "code",
   "execution_count": 203,
   "metadata": {},
   "outputs": [
    {
     "data": {
      "text/plain": [
       "[(64498256, 64500326, (False, True)),\n",
       " (64500548, 64502069, (False, True)),\n",
       " (64502160, 64502161, (True, False)),\n",
       " (64502161, 64502223, (True, True)),\n",
       " (64502437, 64502438, (True, False)),\n",
       " (64502438, 64502549, (True, True)),\n",
       " (64502924, 64502925, (True, False)),\n",
       " (64502925, 64503098, (True, True)),\n",
       " (64503186, 64503187, (True, False)),\n",
       " (64503187, 64503348, (True, True)),\n",
       " (64503425, 64503429, (True, False)),\n",
       " (64503429, 64503868, (True, True)),\n",
       " (64503981, 64503982, (True, False)),\n",
       " (64503982, 64504116, (True, True)),\n",
       " (64504220, 64504221, (True, False)),\n",
       " (64504221, 64504318, (True, True)),\n",
       " (64504675, 64504676, (True, False)),\n",
       " (64504676, 64504842, (True, True)),\n",
       " (64506074, 64506075, (True, False)),\n",
       " (64506075, 64506261, (True, True)),\n",
       " (64506261, 64506349, (False, True)),\n",
       " (64506512, 64506732, (True, False))]"
      ]
     },
     "execution_count": 203,
     "metadata": {},
     "output_type": "execute_result"
    }
   ],
   "source": [
    "get_canonical_intervals(\n",
    "    [\n",
    "        in_isoforms[in_tid_to_idx['17_680_3']].exons,\n",
    "        annot_isoforms[annot_tid_to_idx['ENST00000678110']].exons,\n",
    "    ],\n",
    "    # 115,\n",
    ")"
   ]
  }
 ],
 "metadata": {
  "kernelspec": {
   "display_name": "freddie_dev",
   "language": "python",
   "name": "python3"
  },
  "language_info": {
   "codemirror_mode": {
    "name": "ipython",
    "version": 3
   },
   "file_extension": ".py",
   "mimetype": "text/x-python",
   "name": "python",
   "nbconvert_exporter": "python",
   "pygments_lexer": "ipython3",
   "version": "3.10.11"
  },
  "orig_nbformat": 4
 },
 "nbformat": 4,
 "nbformat_minor": 2
}
