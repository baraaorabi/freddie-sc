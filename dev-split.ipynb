{
 "cells": [
  {
   "cell_type": "code",
   "execution_count": 11,
   "metadata": {},
   "outputs": [],
   "source": [
    "from tqdm import tqdm\n",
    "import gzip\n",
    "from collections import namedtuple\n",
    "from glob import glob\n"
   ]
  },
  {
   "cell_type": "code",
   "execution_count": 92,
   "metadata": {},
   "outputs": [],
   "source": [
    "split_tsv = \"output/results/N1_dev/freddie.split/21.split.tsv.gz\"\n",
    "old_splits = \"output/results/N1/freddie.split/21/split_*.tsv.gz\""
   ]
  },
  {
   "cell_type": "code",
   "execution_count": 117,
   "metadata": {},
   "outputs": [],
   "source": [
    "Tint = namedtuple(\n",
    "    \"Tint\",\n",
    "    [\n",
    "        \"idx\",\n",
    "        \"contig\",\n",
    "        \"reads\",\n",
    "        \"intervals\",\n",
    "    ],\n",
    ")\n",
    "Read = namedtuple(\n",
    "    \"Read\",\n",
    "    [\n",
    "        \"idx\",\n",
    "        \"name\",\n",
    "        \"intervals\",\n",
    "    ],\n",
    ")"
   ]
  },
  {
   "cell_type": "code",
   "execution_count": 158,
   "metadata": {},
   "outputs": [
    {
     "name": "stderr",
     "output_type": "stream",
     "text": [
      "87994it [00:01, 77370.92it/s] \n"
     ]
    }
   ],
   "source": [
    "new_tints = list()\n",
    "for line in tqdm(gzip.open(split_tsv, \"rt\")):\n",
    "    line = line.rstrip(\"\\n\")\n",
    "    if line.startswith(\"#\"):\n",
    "        line = line.lstrip(\"#\")\n",
    "        contig, tint_id, read_count, intervals = line.split(\"\\t\")\n",
    "        intervals = intervals.split(\",\")\n",
    "        intervals = tuple(\n",
    "            tuple(map(int, interval.split(\"-\"))) for interval in intervals\n",
    "        )\n",
    "        new_tints.append(\n",
    "            Tint(\n",
    "                idx=int(tint_id),\n",
    "                contig=contig,\n",
    "                reads=dict(),\n",
    "                intervals=intervals,\n",
    "            )\n",
    "        )\n",
    "        continue\n",
    "    line = line.split(\"\\t\")\n",
    "    ridx, name, strand = line[:3]\n",
    "    ridx = int(ridx)\n",
    "    intervals = line[3:]\n",
    "    intervals = tuple(\n",
    "        tuple(\n",
    "            int(pos)\n",
    "            for interval in paired_interval.split(\":\")\n",
    "            for pos in interval.split(\"-\")\n",
    "        )\n",
    "        for paired_interval in intervals[2:]\n",
    "    )\n",
    "    new_tints[-1].reads[name] = Read(\n",
    "        idx=ridx,\n",
    "        name=name,\n",
    "        intervals=intervals,\n",
    "    )"
   ]
  },
  {
   "cell_type": "code",
   "execution_count": 159,
   "metadata": {},
   "outputs": [],
   "source": [
    "old_tints = list()\n",
    "for path in glob(old_splits):\n",
    "    f = gzip.open(path, \"rt\")\n",
    "    line = f.readline()\n",
    "    line = line.rstrip(\"\\n\")\n",
    "    line = line.lstrip(\"#\")\n",
    "    contig, tint_id, intervals, read_count = line.split(\"\\t\")\n",
    "    tint_id = int(tint_id)\n",
    "    intervals = intervals.split(\",\")\n",
    "    intervals = tuple(tuple(map(int, interval.split(\"-\"))) for interval in intervals)\n",
    "    read_count = int(read_count)\n",
    "    old_tints.append(\n",
    "        Tint(\n",
    "            idx=tint_id,\n",
    "            contig=contig,\n",
    "            reads=dict(),\n",
    "            intervals=intervals,\n",
    "        )\n",
    "    )\n",
    "    for line in f:\n",
    "        line = line.rstrip(\"\\n\")\n",
    "        line = line.split(\"\\t\")\n",
    "        ridx, name, contig, strand, tint_id = line[:5]\n",
    "        intervals = line[5:]\n",
    "        ridx = int(ridx)\n",
    "        intervals = tuple(\n",
    "            tuple(\n",
    "                int(pos)\n",
    "                for interval in paired_interval.split(\":\")[:2]\n",
    "                for pos in interval.split(\"-\")\n",
    "            )\n",
    "            for paired_interval in intervals\n",
    "        )\n",
    "        old_tints[-1].reads[name] = Read(\n",
    "            idx=ridx,\n",
    "            name=name,\n",
    "            intervals=intervals,\n",
    "        )\n",
    "    assert len(old_tints[-1].reads) == read_count, (\n",
    "        len(old_tints[-1].reads),\n",
    "        read_count,\n",
    "    )"
   ]
  },
  {
   "cell_type": "code",
   "execution_count": 149,
   "metadata": {},
   "outputs": [],
   "source": [
    "from collections import defaultdict\n",
    "\n",
    "\n",
    "name_to_intervals = defaultdict(lambda: [tuple(), tuple()])\n",
    "for tint in old_tints:\n",
    "    for read in tint.reads.values():\n",
    "        name_to_intervals[read.name][0] = read.intervals\n",
    "for tint in new_tints:\n",
    "    for read in tint.reads.values():\n",
    "        name_to_intervals[read.name][1] = read.intervals"
   ]
  },
  {
   "cell_type": "code",
   "execution_count": 214,
   "metadata": {},
   "outputs": [
    {
     "name": "stderr",
     "output_type": "stream",
     "text": [
      "100%|██████████| 279/279 [00:07<00:00, 39.39it/s]\n"
     ]
    }
   ],
   "source": [
    "mapping = defaultdict()\n",
    "for ot in tqdm(old_tints):\n",
    "    mapping[ot.idx] = list()\n",
    "    if len([r for r in ot.reads.values() if len(r.intervals)>1]) <= 3:\n",
    "        continue\n",
    "    if len(ot.intervals) == 1:\n",
    "        continue\n",
    "    for nt in new_tints:\n",
    "        if set(ot.reads) & set(nt.reads) == set():\n",
    "            continue\n",
    "        mapping[ot.idx].append(nt.idx)\n",
    "    assert len(mapping[ot.idx]) == 1, (ot.idx, mapping[ot.idx])"
   ]
  },
  {
   "cell_type": "code",
   "execution_count": 38,
   "metadata": {},
   "outputs": [
    {
     "data": {
      "text/plain": [
       "{'rid': '0',\n",
       " 'name': 'fbae1395-b4b8-4078-a7fe-7557c1d38b1d',\n",
       " 'strand': '+',\n",
       " 'intervals': '0-2:18-20\\t0-0:0-0\\t5022530-5022693:54-206\\t5026253-5026363:206-327'}"
      ]
     },
     "execution_count": 38,
     "metadata": {},
     "output_type": "execute_result"
    }
   ],
   "source": [
    "import re\n",
    "\n",
    "interval_re = \"([0-9]+)-([0-9]+)\"\n",
    "rinterval_re = \"%(i)s:%(i)s\" % {\"i\": interval_re}\n",
    "chr_re = \"[0-9A-Za-z!#$%&+./:;?@^_|~-][0-9A-Za-z!#$%&*+./:;=?@^_|~-]*\"\n",
    "tint_interval_prog = re.compile(interval_re)\n",
    "read_interval_prog = re.compile(rinterval_re)\n",
    "tint_prog = re.compile(\n",
    "    r\"#%(contig)s\\t\" % {\"contig\": f\"(?P<contig>{chr_re})\"}\n",
    "    + r\"%(idx)s\\t\" % {\"idx\": \"(?P<tint_id>[0-9]+)\"}\n",
    "    + r\"%(count)s\\t\" % {\"count\": \"(?P<read_count>[0-9]+)\"}\n",
    "    + r\"%(intervals)s\\n\"\n",
    "    % {\"intervals\": \"(?P<intervals>%(i)s(,%(i)s)*)\" % {\"i\": interval_re}}\n",
    ")\n",
    "read_prog = re.compile(\n",
    "    r\"%(idx)s\\t\" % {\"idx\": \"(?P<rid>[0-9]+)\"}\n",
    "    + r\"%(name)s\\t\" % {\"name\": \"(?P<name>[!-?A-~]{1,254})\"}\n",
    "    + r\"%(strand)s\\t\" % {\"strand\": \"(?P<strand>[+-])\"}\n",
    "    + r\"%(intervals)s\\n$\"\n",
    "    % {\"intervals\": r\"(?P<intervals>%(i)s(\\t%(i)s)*)\" % {\"i\": rinterval_re}}\n",
    ")\n",
    "\n",
    "f = gzip.open(\"output/results/N1_dev/freddie.split/21.split.tsv.gz\", \"rt\")\n",
    "t_line = f.readline()\n",
    "r_line = f.readline()\n",
    "\n",
    "r_line = '0\\tfbae1395-b4b8-4078-a7fe-7557c1d38b1d\\t+\\t0-2:18-20\\t0-0:0-0\\t5022530-5022693:54-206\\t5026253-5026363:206-327\\n'\n",
    "\n",
    "read_prog.match(r_line).groupdict()"
   ]
  },
  {
   "cell_type": "code",
   "execution_count": 22,
   "metadata": {},
   "outputs": [
    {
     "data": {
      "text/plain": [
       "re.compile(r'#(?P<contig>[0-9A-Za-z!#$%&+./:;?@^_|~-][0-9A-Za-z!#$%&*+./:;=?@^_|~-]*)\\t(?P<tint_id>[0-9]+)\\t(?P<read_count>[0-9]+)\\t$(?P<intervals>([0-9]+)-([0-9]+)(,([0-9]+)-([0-9]+))*)\\n',\n",
       "           re.UNICODE)"
      ]
     },
     "execution_count": 22,
     "metadata": {},
     "output_type": "execute_result"
    }
   ],
   "source": [
    "tint_prog"
   ]
  },
  {
   "cell_type": "code",
   "execution_count": 213,
   "metadata": {},
   "outputs": [
    {
     "name": "stdout",
     "output_type": "stream",
     "text": [
      "(8229019, 8229364, 9)\n",
      "(8229019, 8229364, 9)\n",
      "(8229961, 8229993, 10)\n",
      "(8229961, 8229993, 10)\n",
      "(8230270, 8230476, 9)\n",
      "(8230270, 8230691, 9)\n",
      "(8230307, 8230691, 9)\n",
      "(8232652, 8232950, 9)\n",
      "(8232652, 8232779, 9)\n",
      "(8232672, 8232950, 9)\n",
      "(8232736, 8232883, 9)\n",
      "(8233331, 8233794, 9)\n",
      "(8233331, 8233794, 9)\n",
      "(8233382, 8233433, 9)\n",
      "(8233795, 8233929, 9)\n",
      "(8233795, 8233929, 9)\n",
      "(8234035, 8234258, 10)\n",
      "(8234035, 8234258, 10)\n",
      "(8234197, 8234205, 10)\n",
      "(8234350, 8234840, 10)\n",
      "(8234350, 8234761, 10)\n",
      "(8234637, 8234840, 10)\n",
      "(8234866, 8235178, 9)\n",
      "(8234866, 8235178, 9)\n",
      "(8237716, 8237752, 10)\n",
      "(8237716, 8237752, 10)\n",
      "(8403027, 8403207, 9)\n",
      "(8403027, 8403207, 9)\n",
      "(8403795, 8403939, 9)\n",
      "(8403795, 8403939, 9)\n",
      "(8411679, 8411764, 9)\n",
      "(8411679, 8411764, 9)\n",
      "(8411941, 8412138, 9)\n",
      "(8411941, 8412138, 9)\n",
      "(8412288, 8412425, 9)\n",
      "(8412288, 8412425, 9)\n",
      "(8412499, 8412590, 9)\n",
      "(8412499, 8412590, 9)\n",
      "(8412760, 8413044, 9)\n",
      "(8412760, 8412938, 9)\n",
      "(8412829, 8413044, 9)\n",
      "(8413240, 8413293, 10)\n",
      "(8413240, 8413293, 10)\n",
      "(8415212, 8415611, 9)\n",
      "(8415212, 8415470, 9)\n",
      "(8415404, 8415611, 9)\n",
      "(8415710, 8415824, 9)\n",
      "(8415710, 8415824, 9)\n",
      "(8416004, 8416286, 10)\n",
      "(8416004, 8416286, 10)\n",
      "(8416694, 8416772, 9)\n",
      "(8416694, 8416772, 9)\n",
      "(8416973, 8417369, 9)\n",
      "(8416973, 8417369, 9)\n",
      "(8417082, 8417088, 9)\n",
      "(8417134, 8417149, 9)\n",
      "(8417188, 8417265, 9)\n",
      "(8417645, 8417656, 9)\n",
      "(8417645, 8417656, 9)\n",
      "(8419833, 8420417, 9)\n",
      "(8419833, 8420138, 9)\n",
      "(8419851, 8419995, 9)\n",
      "(8420051, 8420417, 9)\n",
      "(8420467, 8420732, 9)\n",
      "(8420467, 8420524, 9)\n",
      "(8420468, 8420732, 9)\n",
      "(8455302, 8455457, 9)\n",
      "(8455302, 8455352, 9)\n",
      "(8455337, 8455457, 9)\n",
      "(8455342, 8455394, 9)\n",
      "(8456252, 8456410, 9)\n",
      "(8456252, 8456410, 9)\n",
      "(8456839, 8457207, 9)\n",
      "(8456839, 8457116, 9)\n",
      "(8456984, 8457207, 9)\n",
      "(8459890, 8460419, 9)\n",
      "(8459890, 8460419, 9)\n",
      "(8460283, 8460380, 9)\n",
      "(8461209, 8461240, 9)\n",
      "(8461209, 8461240, 9)\n",
      "(8464148, 8464342, 9)\n",
      "(8464148, 8464342, 9)\n",
      "(8464362, 8464552, 9)\n",
      "(8464362, 8464552, 9)\n",
      "(8465068, 8465117, 9)\n",
      "(8465068, 8465117, 9)\n"
     ]
    }
   ],
   "source": [
    "from cgranges import cgranges\n",
    "\n",
    "CR = cgranges()\n",
    "S = float(\"inf\")\n",
    "E = float(\"-inf\")\n",
    "for tint in old_tints:\n",
    "    if tint.idx not in [10, 9]:\n",
    "        continue\n",
    "    # print(tint.intervals)\n",
    "    for s, e in tint.intervals:\n",
    "        CR.add(\"\", s, e, tint.idx)\n",
    "        S = min(S, s)\n",
    "        E = max(E, e)\n",
    "    for read in tint.reads.values():\n",
    "        for s, e, _, _ in read.intervals:\n",
    "            CR.add(\"\", s, e, tint.idx)\n",
    "            S = min(S, s)\n",
    "            E = max(E, e)\n",
    "CR.index()\n",
    "for x in CR.overlap(\"\", S, E):\n",
    "    print(x)"
   ]
  }
 ],
 "metadata": {
  "kernelspec": {
   "display_name": "freddie_dev",
   "language": "python",
   "name": "python3"
  },
  "language_info": {
   "codemirror_mode": {
    "name": "ipython",
    "version": 3
   },
   "file_extension": ".py",
   "mimetype": "text/x-python",
   "name": "python",
   "nbconvert_exporter": "python",
   "pygments_lexer": "ipython3",
   "version": "3.10.11"
  },
  "orig_nbformat": 4
 },
 "nbformat": 4,
 "nbformat_minor": 2
}
